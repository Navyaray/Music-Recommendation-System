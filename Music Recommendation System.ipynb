{
 "cells": [
  {
   "cell_type": "markdown",
   "id": "701f1a74",
   "metadata": {},
   "source": [
    "# Real ML Problem\n",
    "Suggesting music on the basis of their profile"
   ]
  },
  {
   "cell_type": "markdown",
   "id": "5e98f67f",
   "metadata": {},
   "source": [
    "STEP 1: IMPORTING THE DATASET"
   ]
  },
  {
   "cell_type": "code",
   "execution_count": 3,
   "id": "7f97a227",
   "metadata": {},
   "outputs": [
    {
     "data": {
      "text/html": [
       "<div>\n",
       "<style scoped>\n",
       "    .dataframe tbody tr th:only-of-type {\n",
       "        vertical-align: middle;\n",
       "    }\n",
       "\n",
       "    .dataframe tbody tr th {\n",
       "        vertical-align: top;\n",
       "    }\n",
       "\n",
       "    .dataframe thead th {\n",
       "        text-align: right;\n",
       "    }\n",
       "</style>\n",
       "<table border=\"1\" class=\"dataframe\">\n",
       "  <thead>\n",
       "    <tr style=\"text-align: right;\">\n",
       "      <th></th>\n",
       "      <th>age</th>\n",
       "      <th>gender</th>\n",
       "      <th>genre</th>\n",
       "    </tr>\n",
       "  </thead>\n",
       "  <tbody>\n",
       "    <tr>\n",
       "      <th>0</th>\n",
       "      <td>20</td>\n",
       "      <td>1</td>\n",
       "      <td>HipHop</td>\n",
       "    </tr>\n",
       "    <tr>\n",
       "      <th>1</th>\n",
       "      <td>23</td>\n",
       "      <td>1</td>\n",
       "      <td>HipHop</td>\n",
       "    </tr>\n",
       "    <tr>\n",
       "      <th>2</th>\n",
       "      <td>25</td>\n",
       "      <td>1</td>\n",
       "      <td>HipHop</td>\n",
       "    </tr>\n",
       "    <tr>\n",
       "      <th>3</th>\n",
       "      <td>26</td>\n",
       "      <td>1</td>\n",
       "      <td>Jazz</td>\n",
       "    </tr>\n",
       "    <tr>\n",
       "      <th>4</th>\n",
       "      <td>29</td>\n",
       "      <td>1</td>\n",
       "      <td>Jazz</td>\n",
       "    </tr>\n",
       "    <tr>\n",
       "      <th>5</th>\n",
       "      <td>30</td>\n",
       "      <td>1</td>\n",
       "      <td>Jazz</td>\n",
       "    </tr>\n",
       "    <tr>\n",
       "      <th>6</th>\n",
       "      <td>31</td>\n",
       "      <td>1</td>\n",
       "      <td>Classical</td>\n",
       "    </tr>\n",
       "    <tr>\n",
       "      <th>7</th>\n",
       "      <td>33</td>\n",
       "      <td>1</td>\n",
       "      <td>Classical</td>\n",
       "    </tr>\n",
       "    <tr>\n",
       "      <th>8</th>\n",
       "      <td>37</td>\n",
       "      <td>1</td>\n",
       "      <td>Classical</td>\n",
       "    </tr>\n",
       "    <tr>\n",
       "      <th>9</th>\n",
       "      <td>20</td>\n",
       "      <td>0</td>\n",
       "      <td>Dance</td>\n",
       "    </tr>\n",
       "    <tr>\n",
       "      <th>10</th>\n",
       "      <td>21</td>\n",
       "      <td>0</td>\n",
       "      <td>Dance</td>\n",
       "    </tr>\n",
       "    <tr>\n",
       "      <th>11</th>\n",
       "      <td>25</td>\n",
       "      <td>0</td>\n",
       "      <td>Dance</td>\n",
       "    </tr>\n",
       "    <tr>\n",
       "      <th>12</th>\n",
       "      <td>26</td>\n",
       "      <td>0</td>\n",
       "      <td>Acoustic</td>\n",
       "    </tr>\n",
       "    <tr>\n",
       "      <th>13</th>\n",
       "      <td>27</td>\n",
       "      <td>0</td>\n",
       "      <td>Acoustic</td>\n",
       "    </tr>\n",
       "    <tr>\n",
       "      <th>14</th>\n",
       "      <td>30</td>\n",
       "      <td>0</td>\n",
       "      <td>Acoustic</td>\n",
       "    </tr>\n",
       "    <tr>\n",
       "      <th>15</th>\n",
       "      <td>31</td>\n",
       "      <td>0</td>\n",
       "      <td>Classical</td>\n",
       "    </tr>\n",
       "    <tr>\n",
       "      <th>16</th>\n",
       "      <td>34</td>\n",
       "      <td>0</td>\n",
       "      <td>Classical</td>\n",
       "    </tr>\n",
       "    <tr>\n",
       "      <th>17</th>\n",
       "      <td>35</td>\n",
       "      <td>0</td>\n",
       "      <td>Classical</td>\n",
       "    </tr>\n",
       "  </tbody>\n",
       "</table>\n",
       "</div>"
      ],
      "text/plain": [
       "    age  gender      genre\n",
       "0    20       1     HipHop\n",
       "1    23       1     HipHop\n",
       "2    25       1     HipHop\n",
       "3    26       1       Jazz\n",
       "4    29       1       Jazz\n",
       "5    30       1       Jazz\n",
       "6    31       1  Classical\n",
       "7    33       1  Classical\n",
       "8    37       1  Classical\n",
       "9    20       0      Dance\n",
       "10   21       0      Dance\n",
       "11   25       0      Dance\n",
       "12   26       0   Acoustic\n",
       "13   27       0   Acoustic\n",
       "14   30       0   Acoustic\n",
       "15   31       0  Classical\n",
       "16   34       0  Classical\n",
       "17   35       0  Classical"
      ]
     },
     "execution_count": 3,
     "metadata": {},
     "output_type": "execute_result"
    }
   ],
   "source": [
    "import pandas as pd\n",
    "music_data = pd.read_csv('music.csv')\n",
    "music_data"
   ]
  },
  {
   "cell_type": "markdown",
   "id": "1e56a37b",
   "metadata": {},
   "source": [
    "STEP 2: CLEANING/PREPARING THE DATA\n",
    "\n",
    "Cleaning the dataset means removing duplicates, null values etc."
   ]
  },
  {
   "cell_type": "markdown",
   "id": "b5f2a15f",
   "metadata": {},
   "source": [
    "Since we have values for all rows and columns....we do not need to clean the data as there is no null/duplicate data\n",
    "\n",
    "But we will divite our data into 2 sets...the input set(with age and gender) and the output set(with genre)"
   ]
  },
  {
   "cell_type": "code",
   "execution_count": 4,
   "id": "bd83b8c5",
   "metadata": {},
   "outputs": [
    {
     "data": {
      "text/html": [
       "<div>\n",
       "<style scoped>\n",
       "    .dataframe tbody tr th:only-of-type {\n",
       "        vertical-align: middle;\n",
       "    }\n",
       "\n",
       "    .dataframe tbody tr th {\n",
       "        vertical-align: top;\n",
       "    }\n",
       "\n",
       "    .dataframe thead th {\n",
       "        text-align: right;\n",
       "    }\n",
       "</style>\n",
       "<table border=\"1\" class=\"dataframe\">\n",
       "  <thead>\n",
       "    <tr style=\"text-align: right;\">\n",
       "      <th></th>\n",
       "      <th>age</th>\n",
       "      <th>gender</th>\n",
       "    </tr>\n",
       "  </thead>\n",
       "  <tbody>\n",
       "    <tr>\n",
       "      <th>0</th>\n",
       "      <td>20</td>\n",
       "      <td>1</td>\n",
       "    </tr>\n",
       "    <tr>\n",
       "      <th>1</th>\n",
       "      <td>23</td>\n",
       "      <td>1</td>\n",
       "    </tr>\n",
       "    <tr>\n",
       "      <th>2</th>\n",
       "      <td>25</td>\n",
       "      <td>1</td>\n",
       "    </tr>\n",
       "    <tr>\n",
       "      <th>3</th>\n",
       "      <td>26</td>\n",
       "      <td>1</td>\n",
       "    </tr>\n",
       "    <tr>\n",
       "      <th>4</th>\n",
       "      <td>29</td>\n",
       "      <td>1</td>\n",
       "    </tr>\n",
       "    <tr>\n",
       "      <th>5</th>\n",
       "      <td>30</td>\n",
       "      <td>1</td>\n",
       "    </tr>\n",
       "    <tr>\n",
       "      <th>6</th>\n",
       "      <td>31</td>\n",
       "      <td>1</td>\n",
       "    </tr>\n",
       "    <tr>\n",
       "      <th>7</th>\n",
       "      <td>33</td>\n",
       "      <td>1</td>\n",
       "    </tr>\n",
       "    <tr>\n",
       "      <th>8</th>\n",
       "      <td>37</td>\n",
       "      <td>1</td>\n",
       "    </tr>\n",
       "    <tr>\n",
       "      <th>9</th>\n",
       "      <td>20</td>\n",
       "      <td>0</td>\n",
       "    </tr>\n",
       "    <tr>\n",
       "      <th>10</th>\n",
       "      <td>21</td>\n",
       "      <td>0</td>\n",
       "    </tr>\n",
       "    <tr>\n",
       "      <th>11</th>\n",
       "      <td>25</td>\n",
       "      <td>0</td>\n",
       "    </tr>\n",
       "    <tr>\n",
       "      <th>12</th>\n",
       "      <td>26</td>\n",
       "      <td>0</td>\n",
       "    </tr>\n",
       "    <tr>\n",
       "      <th>13</th>\n",
       "      <td>27</td>\n",
       "      <td>0</td>\n",
       "    </tr>\n",
       "    <tr>\n",
       "      <th>14</th>\n",
       "      <td>30</td>\n",
       "      <td>0</td>\n",
       "    </tr>\n",
       "    <tr>\n",
       "      <th>15</th>\n",
       "      <td>31</td>\n",
       "      <td>0</td>\n",
       "    </tr>\n",
       "    <tr>\n",
       "      <th>16</th>\n",
       "      <td>34</td>\n",
       "      <td>0</td>\n",
       "    </tr>\n",
       "    <tr>\n",
       "      <th>17</th>\n",
       "      <td>35</td>\n",
       "      <td>0</td>\n",
       "    </tr>\n",
       "  </tbody>\n",
       "</table>\n",
       "</div>"
      ],
      "text/plain": [
       "    age  gender\n",
       "0    20       1\n",
       "1    23       1\n",
       "2    25       1\n",
       "3    26       1\n",
       "4    29       1\n",
       "5    30       1\n",
       "6    31       1\n",
       "7    33       1\n",
       "8    37       1\n",
       "9    20       0\n",
       "10   21       0\n",
       "11   25       0\n",
       "12   26       0\n",
       "13   27       0\n",
       "14   30       0\n",
       "15   31       0\n",
       "16   34       0\n",
       "17   35       0"
      ]
     },
     "execution_count": 4,
     "metadata": {},
     "output_type": "execute_result"
    }
   ],
   "source": [
    "# The input set (with age and gender) \n",
    "X = music_data.drop(columns = ['genre'])\n",
    "X"
   ]
  },
  {
   "cell_type": "code",
   "execution_count": 5,
   "id": "6264499a",
   "metadata": {},
   "outputs": [
    {
     "data": {
      "text/plain": [
       "0        HipHop\n",
       "1        HipHop\n",
       "2        HipHop\n",
       "3          Jazz\n",
       "4          Jazz\n",
       "5          Jazz\n",
       "6     Classical\n",
       "7     Classical\n",
       "8     Classical\n",
       "9         Dance\n",
       "10        Dance\n",
       "11        Dance\n",
       "12     Acoustic\n",
       "13     Acoustic\n",
       "14     Acoustic\n",
       "15    Classical\n",
       "16    Classical\n",
       "17    Classical\n",
       "Name: genre, dtype: object"
      ]
     },
     "execution_count": 5,
     "metadata": {},
     "output_type": "execute_result"
    }
   ],
   "source": [
    "# The output set (with genre) \n",
    "y = music_data['genre']\n",
    "y"
   ]
  },
  {
   "cell_type": "markdown",
   "id": "48f0d5b9",
   "metadata": {},
   "source": [
    "STEP 3: LEARNING AND PREDICTING"
   ]
  },
  {
   "cell_type": "markdown",
   "id": "79d219d2",
   "metadata": {},
   "source": [
    "Here we use the Decision Tree Algo"
   ]
  },
  {
   "cell_type": "code",
   "execution_count": 6,
   "id": "8fc6e0a9",
   "metadata": {},
   "outputs": [
    {
     "data": {
      "text/plain": [
       "array(['HipHop', 'Dance'], dtype=object)"
      ]
     },
     "execution_count": 6,
     "metadata": {},
     "output_type": "execute_result"
    }
   ],
   "source": [
    "from sklearn.tree import DecisionTreeClassifier\n",
    "model = DecisionTreeClassifier()\n",
    "\n",
    "# Now we train the class model(with instance DecisionTreeClassifier) like:\n",
    "model.fit(X.values, y)    # here we train the model with the values of input set\n",
    "\n",
    "# Here we ask our model to make predictions\n",
    "predictions = model.predict([ [21,1], [22,0] ])   # passing new input sets\n",
    "predictions"
   ]
  },
  {
   "cell_type": "markdown",
   "id": "8aab41cb",
   "metadata": {},
   "source": [
    "STEP 4: MEASURING ACCURACY"
   ]
  },
  {
   "cell_type": "code",
   "execution_count": 12,
   "id": "e227a314",
   "metadata": {},
   "outputs": [
    {
     "data": {
      "text/plain": [
       "0.75"
      ]
     },
     "execution_count": 12,
     "metadata": {},
     "output_type": "execute_result"
    }
   ],
   "source": [
    "# First we need to split our datasets into training and testing sets for accuracy\n",
    "# Genereal rule is to allocate 70-80% for training and the other 20-30% for testing\n",
    "\n",
    "from sklearn.model_selection import train_test_split\n",
    "from sklearn.metrics import accuracy_score   # We import it while finding the accuracy\n",
    "\n",
    "# We give this function 3 arguments- X, y and a keyboard argument that specifies the size of our test dataset(0.2 means 20% of data as test data)\n",
    "X_train, X_test, y_train, y_test = train_test_split(X, y, test_size=0.2)  # Here first two are input sets of training and testing data and the next two are output sets of training and testing data\n",
    "\n",
    "# Now instead of passing the entire dataset to train the model as we did before, we pass only training dataset\n",
    "model.fit(X_train, y_train)\n",
    "\n",
    "# Here instead of passing new input sets for prediction...we use the test datset\n",
    "predictions = model.predict(X_test)\n",
    "\n",
    "# To calculate the accuracy we simply have to compare the the predictions with the actual values we have in testing (y_test)\n",
    "# For that we import another function in the top\n",
    "\n",
    " \n"
   ]
  },
  {
   "cell_type": "markdown",
   "id": "434f9b3c",
   "metadata": {},
   "source": [
    "By running this code multiple times we notice the change in accuracy as every time the training and testing data changes.\n",
    "But still the accuracy remains between 75%-100% (0.75-1.0)....which is good.\n",
    "\n",
    "But if for an eg. we change the test_size from 0.2 to 0.8 (means 80% as test data and only 20% of data to train the model) we immediately notice the drop in accuracy which is not good. "
   ]
  },
  {
   "cell_type": "markdown",
   "id": "e21a7e67",
   "metadata": {},
   "source": [
    "_Model Persistence_"
   ]
  },
  {
   "cell_type": "markdown",
   "id": "ee6284b5",
   "metadata": {},
   "source": [
    "The goal of model persistence is that once in a while we build and train our model and then we will save it to a file. Now next time we want to make some predictions we simply load the model from the file and ask it to make the predictions as the model is already trained...so we don't need to re-train it."
   ]
  },
  {
   "cell_type": "code",
   "execution_count": 15,
   "id": "6fe85ab1",
   "metadata": {},
   "outputs": [
    {
     "data": {
      "text/plain": [
       "['music-recommender.joblib']"
      ]
     },
     "execution_count": 15,
     "metadata": {},
     "output_type": "execute_result"
    }
   ],
   "source": [
    "import pandas as pd\n",
    "from sklearn.tree import DecisionTreeClassifier\n",
    "import joblib   # It is a python package. joblib object has methods for saving and loading models\n",
    "\n",
    "music_data = pd.read_csv('music.csv')\n",
    "X = music_data.drop(columns = ['genre'])\n",
    "y = music_data['genre']\n",
    "\n",
    "model = DecisionTreeClassifier()\n",
    "model.fit(X.values, y)\n",
    "\n",
    "# We give it two arguments - model and the name of the file in which we wanna store this model \n",
    "joblib.dump(model, 'music-recommender.joblib')\n",
    "\n",
    "# predictions = model.predict([ [21,1], [22,0] ])\n"
   ]
  },
  {
   "cell_type": "code",
   "execution_count": 16,
   "id": "3228b4ac",
   "metadata": {},
   "outputs": [
    {
     "data": {
      "text/plain": [
       "array(['HipHop'], dtype=object)"
      ]
     },
     "execution_count": 16,
     "metadata": {},
     "output_type": "execute_result"
    }
   ],
   "source": [
    "# In real application we don't train model everytime..thus model persistence. So we comment out the training part\n",
    "\n",
    "import pandas as pd\n",
    "from sklearn.tree import DecisionTreeClassifier\n",
    "import joblib   # It is a python package. joblib object has methods for saving and loading models\n",
    "\n",
    "''' music_data = pd.read_csv('music.csv')\n",
    " X = music_data.drop(columns = ['genre'])\n",
    " y = music_data['genre']\n",
    "\n",
    " model = DecisionTreeClassifier()\n",
    " model.fit(X.values, y) '''\n",
    "\n",
    "# This time instead of dumping...we load it \n",
    "model = joblib.load('music-recommender.joblib')\n",
    "predictions = model.predict([[21,1]])\n",
    "predictions"
   ]
  },
  {
   "cell_type": "markdown",
   "id": "0db109e8",
   "metadata": {},
   "source": [
    "_Visualizing Decision Trees_"
   ]
  },
  {
   "cell_type": "code",
   "execution_count": 18,
   "id": "951aeaea",
   "metadata": {},
   "outputs": [],
   "source": [
    "import pandas as pd\n",
    "from sklearn.tree import DecisionTreeClassifier\n",
    "from sklearn import tree\n",
    "\n",
    "music_data = pd.read_csv('music.csv')\n",
    "X = music_data.drop(columns = ['genre'])\n",
    "y = music_data['genre']\n",
    "\n",
    "model = DecisionTreeClassifier()\n",
    "model.fit(X.values, y)\n",
    "\n",
    "# After training the model we will plot the graph\n",
    "# It takes two arguments - model and the name of out output file\n",
    "tree.export_graphviz(model, out_file='music-recommender.dot',     # .dot format is the graph description lang\n",
    "                     feature_names=['age', 'gender'],      # these are the features/columns of our dataset\n",
    "                     class_names=sorted(y.unique()),    # since y contains all the genres but in a repeated manner...sorted(y.unique()) sorts the genres alphabetically and also prevents repeatition\n",
    "                     label='all',\n",
    "                     rounded=True,\n",
    "                     filled=True)   "
   ]
  },
  {
   "cell_type": "code",
   "execution_count": null,
   "id": "55a4e509",
   "metadata": {},
   "outputs": [],
   "source": []
  }
 ],
 "metadata": {
  "kernelspec": {
   "display_name": "Python 3 (ipykernel)",
   "language": "python",
   "name": "python3"
  },
  "language_info": {
   "codemirror_mode": {
    "name": "ipython",
    "version": 3
   },
   "file_extension": ".py",
   "mimetype": "text/x-python",
   "name": "python",
   "nbconvert_exporter": "python",
   "pygments_lexer": "ipython3",
   "version": "3.9.12"
  }
 },
 "nbformat": 4,
 "nbformat_minor": 5
}
